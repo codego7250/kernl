{
 "cells": [
  {
   "cell_type": "markdown",
   "source": [
    "# Fused tiled matmul (large N)\n",
    "\n"
   ],
   "metadata": {
    "collapsed": false,
    "pycharm": {
     "name": "#%% md\n"
    }
   }
  },
  {
   "cell_type": "code",
   "execution_count": 6,
   "metadata": {
    "collapsed": true,
    "pycharm": {
     "name": "#%%\n"
    }
   },
   "outputs": [],
   "source": [
    "import torch\n",
    "\n",
    "M, N, N1, K = 15, 9, 12, 12\n",
    "\n",
    "A = torch.rand((M, K))\n",
    "B = torch.rand((K, N))\n",
    "C = torch.rand((N, N1))"
   ]
  },
  {
   "cell_type": "code",
   "execution_count": 20,
   "outputs": [],
   "source": [
    "block_M, block_N, block_N1, block_K = M // 3, N // 3, N1 // 3, K // 3\n",
    "\n",
    "output_ABC = torch.zeros((M, N1))\n",
    "output_AB = torch.zeros((M, N))\n",
    "\n",
    "total_read = 0\n",
    "total_write = 0\n",
    "\n",
    "for index_M in range(0, M, block_M):\n",
    "    start_M = index_M\n",
    "    end_M = index_M + block_M\n",
    "\n",
    "    for index_N in range(0, N, block_N):\n",
    "        start_N = index_N\n",
    "        end_N = index_N + block_N\n",
    "        accumulator0 = torch.zeros((block_M, block_N))\n",
    "\n",
    "        for index_K in range(0, K, block_K):\n",
    "            start_K = index_K\n",
    "            end_K = index_K + block_K\n",
    "\n",
    "            tile_A = A[start_M:end_M, start_K:end_K]\n",
    "            total_read += tile_A.numel()\n",
    "            tile_B = B[start_K:end_K, start_N:end_N]\n",
    "            total_read += tile_B.numel()\n",
    "            # @ means matmul in numpy and pytorch\n",
    "            accumulator0 += tile_A @ tile_B\n",
    "        output_AB[start_M:end_M, start_N:end_N] = accumulator0\n",
    "\n",
    "        for index_N1 in range(0, N1, block_N1):\n",
    "            start_N1 = index_N1\n",
    "            end_N1 = index_N1 + block_N1\n",
    "            tile_C = C[start_N:end_N, start_N1:end_N1]\n",
    "            total_read += tile_C.numel()\n",
    "            # do it as an atomic add\n",
    "            output_ABC[start_M:end_M, start_N1:end_N1] += accumulator0 @ tile_C\n",
    "            total_write += output_ABC[start_M:end_M, start_N1:end_N1].numel()\n",
    "\n",
    "assert torch.allclose(output_AB, A @ B)\n",
    "assert torch.allclose(output_ABC, (A @ B) @ C, atol=0.1)"
   ],
   "metadata": {
    "collapsed": false,
    "pycharm": {
     "name": "#%%\n"
    }
   }
  },
  {
   "cell_type": "code",
   "execution_count": 22,
   "outputs": [
    {
     "data": {
      "text/plain": "540"
     },
     "execution_count": 22,
     "metadata": {},
     "output_type": "execute_result"
    }
   ],
   "source": [
    "total_write"
   ],
   "metadata": {
    "collapsed": false,
    "pycharm": {
     "name": "#%%\n"
    }
   }
  },
  {
   "cell_type": "code",
   "execution_count": 23,
   "outputs": [
    {
     "data": {
      "text/plain": "1188"
     },
     "execution_count": 23,
     "metadata": {},
     "output_type": "execute_result"
    }
   ],
   "source": [
    "total_read"
   ],
   "metadata": {
    "collapsed": false,
    "pycharm": {
     "name": "#%%\n"
    }
   }
  },
  {
   "cell_type": "code",
   "execution_count": null,
   "outputs": [],
   "source": [],
   "metadata": {
    "collapsed": false,
    "pycharm": {
     "name": "#%%\n"
    }
   }
  }
 ],
 "metadata": {
  "kernelspec": {
   "display_name": "Python 3",
   "language": "python",
   "name": "python3"
  },
  "language_info": {
   "codemirror_mode": {
    "name": "ipython",
    "version": 2
   },
   "file_extension": ".py",
   "mimetype": "text/x-python",
   "name": "python",
   "nbconvert_exporter": "python",
   "pygments_lexer": "ipython2",
   "version": "2.7.6"
  }
 },
 "nbformat": 4,
 "nbformat_minor": 0
}